{
 "cells": [
  {
   "cell_type": "code",
   "execution_count": 101,
   "metadata": {
    "collapsed": true
   },
   "outputs": [],
   "source": [
    "import pandas as pd\n",
    "import numpy as np\n",
    "\n",
    "from random import randrange"
   ]
  },
  {
   "cell_type": "code",
   "execution_count": 102,
   "metadata": {
    "collapsed": false
   },
   "outputs": [
    {
     "data": {
      "text/html": [
       "<div>\n",
       "<style>\n",
       "    .dataframe thead tr:only-child th {\n",
       "        text-align: right;\n",
       "    }\n",
       "\n",
       "    .dataframe thead th {\n",
       "        text-align: left;\n",
       "    }\n",
       "\n",
       "    .dataframe tbody tr th {\n",
       "        vertical-align: top;\n",
       "    }\n",
       "</style>\n",
       "<table border=\"1\" class=\"dataframe\">\n",
       "  <thead>\n",
       "    <tr style=\"text-align: right;\">\n",
       "      <th></th>\n",
       "      <th>instant</th>\n",
       "      <th>dteday</th>\n",
       "      <th>season</th>\n",
       "      <th>yr</th>\n",
       "      <th>mnth</th>\n",
       "      <th>holiday</th>\n",
       "      <th>weekday</th>\n",
       "      <th>workingday</th>\n",
       "      <th>weathersit</th>\n",
       "      <th>temp</th>\n",
       "      <th>atemp</th>\n",
       "      <th>hum</th>\n",
       "      <th>windspeed</th>\n",
       "      <th>casual</th>\n",
       "      <th>registered</th>\n",
       "      <th>cnt</th>\n",
       "    </tr>\n",
       "  </thead>\n",
       "  <tbody>\n",
       "    <tr>\n",
       "      <th>0</th>\n",
       "      <td>1</td>\n",
       "      <td>2011-01-01</td>\n",
       "      <td>1</td>\n",
       "      <td>0</td>\n",
       "      <td>1</td>\n",
       "      <td>0</td>\n",
       "      <td>6</td>\n",
       "      <td>0</td>\n",
       "      <td>2</td>\n",
       "      <td>0.344167</td>\n",
       "      <td>0.363625</td>\n",
       "      <td>0.805833</td>\n",
       "      <td>0.160446</td>\n",
       "      <td>331</td>\n",
       "      <td>654</td>\n",
       "      <td>985</td>\n",
       "    </tr>\n",
       "    <tr>\n",
       "      <th>1</th>\n",
       "      <td>2</td>\n",
       "      <td>2011-01-02</td>\n",
       "      <td>1</td>\n",
       "      <td>0</td>\n",
       "      <td>1</td>\n",
       "      <td>0</td>\n",
       "      <td>0</td>\n",
       "      <td>0</td>\n",
       "      <td>2</td>\n",
       "      <td>0.363478</td>\n",
       "      <td>0.353739</td>\n",
       "      <td>0.696087</td>\n",
       "      <td>0.248539</td>\n",
       "      <td>131</td>\n",
       "      <td>670</td>\n",
       "      <td>801</td>\n",
       "    </tr>\n",
       "    <tr>\n",
       "      <th>2</th>\n",
       "      <td>3</td>\n",
       "      <td>2011-01-03</td>\n",
       "      <td>1</td>\n",
       "      <td>0</td>\n",
       "      <td>1</td>\n",
       "      <td>0</td>\n",
       "      <td>1</td>\n",
       "      <td>1</td>\n",
       "      <td>1</td>\n",
       "      <td>0.196364</td>\n",
       "      <td>0.189405</td>\n",
       "      <td>0.437273</td>\n",
       "      <td>0.248309</td>\n",
       "      <td>120</td>\n",
       "      <td>1229</td>\n",
       "      <td>1349</td>\n",
       "    </tr>\n",
       "    <tr>\n",
       "      <th>3</th>\n",
       "      <td>4</td>\n",
       "      <td>2011-01-04</td>\n",
       "      <td>1</td>\n",
       "      <td>0</td>\n",
       "      <td>1</td>\n",
       "      <td>0</td>\n",
       "      <td>2</td>\n",
       "      <td>1</td>\n",
       "      <td>1</td>\n",
       "      <td>0.200000</td>\n",
       "      <td>0.212122</td>\n",
       "      <td>0.590435</td>\n",
       "      <td>0.160296</td>\n",
       "      <td>108</td>\n",
       "      <td>1454</td>\n",
       "      <td>1562</td>\n",
       "    </tr>\n",
       "    <tr>\n",
       "      <th>4</th>\n",
       "      <td>5</td>\n",
       "      <td>2011-01-05</td>\n",
       "      <td>1</td>\n",
       "      <td>0</td>\n",
       "      <td>1</td>\n",
       "      <td>0</td>\n",
       "      <td>3</td>\n",
       "      <td>1</td>\n",
       "      <td>1</td>\n",
       "      <td>0.226957</td>\n",
       "      <td>0.229270</td>\n",
       "      <td>0.436957</td>\n",
       "      <td>0.186900</td>\n",
       "      <td>82</td>\n",
       "      <td>1518</td>\n",
       "      <td>1600</td>\n",
       "    </tr>\n",
       "  </tbody>\n",
       "</table>\n",
       "</div>"
      ],
      "text/plain": [
       "   instant      dteday  season  yr  mnth  holiday  weekday  workingday  \\\n",
       "0        1  2011-01-01       1   0     1        0        6           0   \n",
       "1        2  2011-01-02       1   0     1        0        0           0   \n",
       "2        3  2011-01-03       1   0     1        0        1           1   \n",
       "3        4  2011-01-04       1   0     1        0        2           1   \n",
       "4        5  2011-01-05       1   0     1        0        3           1   \n",
       "\n",
       "   weathersit      temp     atemp       hum  windspeed  casual  registered  \\\n",
       "0           2  0.344167  0.363625  0.805833   0.160446     331         654   \n",
       "1           2  0.363478  0.353739  0.696087   0.248539     131         670   \n",
       "2           1  0.196364  0.189405  0.437273   0.248309     120        1229   \n",
       "3           1  0.200000  0.212122  0.590435   0.160296     108        1454   \n",
       "4           1  0.226957  0.229270  0.436957   0.186900      82        1518   \n",
       "\n",
       "    cnt  \n",
       "0   985  \n",
       "1   801  \n",
       "2  1349  \n",
       "3  1562  \n",
       "4  1600  "
      ]
     },
     "execution_count": 102,
     "metadata": {},
     "output_type": "execute_result"
    }
   ],
   "source": [
    "df = pd.read_csv('../data/day.csv')\n",
    "df.head()"
   ]
  },
  {
   "cell_type": "code",
   "execution_count": 103,
   "metadata": {
    "collapsed": false
   },
   "outputs": [
    {
     "data": {
      "text/plain": [
       "(730, 4)"
      ]
     },
     "execution_count": 103,
     "metadata": {},
     "output_type": "execute_result"
    }
   ],
   "source": [
    "df = df[['temp', 'atemp', 'hum', 'windspeed']]\n",
    "df = df[:-1]\n",
    "df.shape"
   ]
  },
  {
   "cell_type": "code",
   "execution_count": 104,
   "metadata": {
    "collapsed": false
   },
   "outputs": [
    {
     "name": "stdout",
     "output_type": "stream",
     "text": [
      "w, T =  73 10\n",
      "N =  5\n"
     ]
    }
   ],
   "source": [
    "# Define the w and T\n",
    "T = 10\n",
    "w = df.shape[0] // T\n",
    "\n",
    "# N is number of states\n",
    "N = 5\n",
    "\n",
    "print('w, T = ', w, T)\n",
    "print('N = ', N)"
   ]
  },
  {
   "cell_type": "code",
   "execution_count": 105,
   "metadata": {
    "collapsed": false
   },
   "outputs": [
    {
     "data": {
      "text/plain": [
       "(73, 10, 4)"
      ]
     },
     "execution_count": 105,
     "metadata": {},
     "output_type": "execute_result"
    }
   ],
   "source": [
    "# Split the data into a wxT numpy matrix\n",
    "sequences = df.values\n",
    "sequences = sequences.reshape(w, T, df.shape[1])\n",
    "sequences.shape"
   ]
  },
  {
   "cell_type": "code",
   "execution_count": 106,
   "metadata": {
    "collapsed": false
   },
   "outputs": [
    {
     "data": {
      "text/plain": [
       "[[82], [124], [640], [583], [307]]"
      ]
     },
     "execution_count": 106,
     "metadata": {},
     "output_type": "execute_result"
    }
   ],
   "source": [
    "states = [[randrange(0, sequences.shape[0]*sequences.shape[1])] for state in range(0, N)]\n",
    "states\n"
   ]
  },
  {
   "cell_type": "code",
   "execution_count": 107,
   "metadata": {
    "collapsed": false
   },
   "outputs": [
    {
     "data": {
      "text/plain": [
       "[array([ 0.285   ,  0.270833,  0.805833,  0.243787]),\n",
       " array([ 0.459167,  0.441917,  0.444167,  0.295392]),\n",
       " array([ 0.590833,  0.542333,  0.871667,  0.104475]),\n",
       " array([ 0.7525  ,  0.710246,  0.654167,  0.129354]),\n",
       " array([ 0.403333,  0.403392,  0.6225  ,  0.271779])]"
      ]
     },
     "execution_count": 107,
     "metadata": {},
     "output_type": "execute_result"
    }
   ],
   "source": [
    "centroid_of_states = [sequences[x[0]//T][x[0]%T] for x in states]\n",
    "centroid_of_states"
   ]
  },
  {
   "cell_type": "code",
   "execution_count": 108,
   "metadata": {
    "collapsed": false
   },
   "outputs": [],
   "source": [
    "assigned_states = np.array(np.zeros((w, T)))\n",
    "for i in range(1, N+1):\n",
    "    x = states[i-1][0] // T\n",
    "    y = states[i-1][0] % T\n",
    "    assigned_states[x][y] = i\n"
   ]
  },
  {
   "cell_type": "code",
   "execution_count": 109,
   "metadata": {
    "collapsed": false
   },
   "outputs": [],
   "source": [
    "for i in range(0, w):\n",
    "    for j in range(0, T):\n",
    "        if assigned_states[i][j] == 0:\n",
    "            \n",
    "            min_dist = np.linalg.norm(centroid_of_states[0] - sequences[i][j])\n",
    "            min_idx = 0\n",
    "            for k in range(1, N):\n",
    "                dist_from_centroid = np.linalg.norm(centroid_of_states[k] - sequences[i][j])\n",
    "                if min_dist > dist_from_centroid:\n",
    "                    min_dist = dist_from_centroid\n",
    "                    min_idx = k\n",
    "            \n",
    "            state_idx = min_idx\n",
    "            \n",
    "            centroid_of_states[state_idx] = (centroid_of_states[state_idx] * len(states[state_idx]) + sequences[i][j]) / (len(states[state_idx]) + 1)\n",
    "            states[state_idx].append((i*T + j))\n",
    "            assigned_states[i][j] = state_idx + 1\n",
    "            \n"
   ]
  },
  {
   "cell_type": "code",
   "execution_count": 110,
   "metadata": {
    "collapsed": false
   },
   "outputs": [
    {
     "data": {
      "text/plain": [
       "730"
      ]
     },
     "execution_count": 110,
     "metadata": {},
     "output_type": "execute_result"
    }
   ],
   "source": [
    "len(states[0]) + len(states[1]) + len(states[2]) + len(states[3]) + len(states[4]) "
   ]
  },
  {
   "cell_type": "code",
   "execution_count": 111,
   "metadata": {
    "collapsed": false
   },
   "outputs": [
    {
     "data": {
      "text/plain": [
       "array([ 0.17808219,  0.10958904,  0.20547945,  0.28767123,  0.21917808])"
      ]
     },
     "execution_count": 111,
     "metadata": {},
     "output_type": "execute_result"
    }
   ],
   "source": [
    "# Calculate initial probabilities\n",
    "pi_vector = [0 for i in range(0, N)]\n",
    "\n",
    "observations_all, counts_total = np.unique(df.values, axis=0, return_counts=True)\n",
    "\n",
    "counts_o1 = 0    \n",
    "for i in range(0, w):\n",
    "    O1 = sequences[i][0]\n",
    "    \n",
    "    for state in states:\n",
    "        state_vector = [sequences[idx // T][idx % T] for idx in state]\n",
    "        \n",
    "        observations, counts = np.unique(state_vector, axis=0, return_counts=True)\n",
    "        idx = np.where(np.all(observations == O1, axis=1))\n",
    "        \n",
    "        if len(idx[0]) != 0:\n",
    "            pi_vector[states.index(state)] += counts[idx[0][0]]\n",
    "\n",
    "    idx = np.where(np.all(observations_all == O1, axis=1))\n",
    "    counts_o1 += counts_total[idx[0][0]]\n",
    "\n",
    "pi_vector = pi_vector / counts_o1\n",
    "pi_vector\n"
   ]
  },
  {
   "cell_type": "code",
   "execution_count": 112,
   "metadata": {
    "collapsed": false
   },
   "outputs": [],
   "source": [
    "# Calculate transition probabilities\n",
    "a_matrix = [[0 for i in range(0, N)] for j in range(0, N)]\n",
    "\n",
    "for i in range(0, N):\n",
    "    for j in range(0, N):\n",
    "        denominator = 0\n",
    "        numerator = 0\n",
    "        for k in range(0, w):\n",
    "            for t in range(0, T-1):\n",
    "                if assigned_states[k][t] == i+1:\n",
    "                    denominator += 1\n",
    "                    if assigned_states[k][t+1] == j+1:\n",
    "                        numerator += 1\n",
    "\n",
    "        a_matrix[i][j] = numerator / denominator"
   ]
  },
  {
   "cell_type": "code",
   "execution_count": 113,
   "metadata": {
    "collapsed": false
   },
   "outputs": [
    {
     "data": {
      "text/plain": [
       "[0.0, 0.03910614525139665, 0.12290502793296089, 0.8379888268156425, 0.0]"
      ]
     },
     "execution_count": 113,
     "metadata": {},
     "output_type": "execute_result"
    }
   ],
   "source": [
    "a_matrix[3]"
   ]
  },
  {
   "cell_type": "code",
   "execution_count": 114,
   "metadata": {
    "collapsed": false
   },
   "outputs": [
    {
     "data": {
      "text/plain": [
       "array([[ 0.39791256,  0.40116889,  0.85684068,  0.20301963],\n",
       "       [ 0.37558266,  0.36413978,  0.38587811,  0.20069909],\n",
       "       [ 0.75345356,  0.71707698,  1.00039015,  0.22837946],\n",
       "       [ 1.16125125,  1.08275746,  0.97834839,  0.27995212],\n",
       "       [ 0.25416133,  0.2521681 ,  0.50547811,  0.21876738]])"
      ]
     },
     "execution_count": 114,
     "metadata": {},
     "output_type": "execute_result"
    }
   ],
   "source": [
    "mean_vector = np.zeros((N, 4))\n",
    "for i in range(0, N):\n",
    "    state_vector = [sequences[idx // T][idx % T] for idx in states[i]]\n",
    "    mean_vector[i] = np.sum(state_vector, axis=0) / len(state)\n",
    "\n",
    "mean_vector"
   ]
  },
  {
   "cell_type": "code",
   "execution_count": 115,
   "metadata": {
    "collapsed": false
   },
   "outputs": [
    {
     "data": {
      "text/plain": [
       "[array([[ 0.00751125,  0.00720635,  0.02313589,  0.00766653],\n",
       "        [ 0.00751125,  0.00720635,  0.02313589,  0.00766653],\n",
       "        [ 0.00751125,  0.00720635,  0.02313589,  0.00766653],\n",
       "        [ 0.00751125,  0.00720635,  0.02313589,  0.00766653]]),\n",
       " array([[ 0.0136555 ,  0.01216347,  0.01605167,  0.0085531 ],\n",
       "        [ 0.0136555 ,  0.01216347,  0.01605167,  0.0085531 ],\n",
       "        [ 0.0136555 ,  0.01216347,  0.01605167,  0.0085531 ],\n",
       "        [ 0.0136555 ,  0.01216347,  0.01605167,  0.0085531 ]]),\n",
       " array([[ 0.03849336,  0.03357262,  0.06838274,  0.00836825],\n",
       "        [ 0.03849336,  0.03357262,  0.06838274,  0.00836825],\n",
       "        [ 0.03849336,  0.03357262,  0.06838274,  0.00836825],\n",
       "        [ 0.03849336,  0.03357262,  0.06838274,  0.00836825]]),\n",
       " array([[ 0.20351295,  0.17686592,  0.15070097,  0.0145368 ],\n",
       "        [ 0.20351295,  0.17686592,  0.15070097,  0.0145368 ],\n",
       "        [ 0.20351295,  0.17686592,  0.15070097,  0.0145368 ],\n",
       "        [ 0.20351295,  0.17686592,  0.15070097,  0.0145368 ]]),\n",
       " array([[ 0.00421012,  0.00392984,  0.00588399,  0.00606716],\n",
       "        [ 0.00421012,  0.00392984,  0.00588399,  0.00606716],\n",
       "        [ 0.00421012,  0.00392984,  0.00588399,  0.00606716],\n",
       "        [ 0.00421012,  0.00392984,  0.00588399,  0.00606716]])]"
      ]
     },
     "execution_count": 115,
     "metadata": {},
     "output_type": "execute_result"
    }
   ],
   "source": [
    "# Co variance\n",
    "covariance_matrix = [None for i in range(0, N)]\n",
    "\n",
    "for i in range(0, N):\n",
    "    state_vector = [sequences[idx // T][idx % T] for idx in states[i]]\n",
    "    x = state_vector - mean_vector[i]\n",
    "    \n",
    "    covariance_matrix[i] = np.zeros((df.shape[1], df.shape[1]))\n",
    "    for x_one in x:\n",
    "        covariance_matrix[i] += x_one.T * x_one \n",
    "    covariance_matrix[i] /= len(states[i])\n",
    "covariance_matrix"
   ]
  },
  {
   "cell_type": "code",
   "execution_count": 143,
   "metadata": {
    "collapsed": false
   },
   "outputs": [],
   "source": [
    "# Emmision probability\n",
    "b = np.zeros((w, N, T))\n",
    "\n",
    "D = df.shape[1]\n",
    "\n",
    "for k in range(0, w):\n",
    "    for i in range(0, N):\n",
    "        for t in range(0, T):\n",
    "            x = sequences[k][t].reshape(1, sequences[k][t].shape[0])\n",
    "            y = mean_vector[i].reshape(1, mean_vector[i].shape[0])\n",
    "            b[k][i][t] = (1 / (((2 * np.pi) ** (D / 2)) * (np.linalg.norm(covariance_matrix[i]) ** 0.5))) * np.exp(-0.5 * np.matmul(np.matmul((x - y), np.linalg.pinv(covariance_matrix[i])), (x - y).T))\n",
    "     "
   ]
  },
  {
   "cell_type": "code",
   "execution_count": null,
   "metadata": {
    "collapsed": false
   },
   "outputs": [],
   "source": []
  },
  {
   "cell_type": "code",
   "execution_count": null,
   "metadata": {
    "collapsed": false
   },
   "outputs": [],
   "source": []
  },
  {
   "cell_type": "code",
   "execution_count": null,
   "metadata": {
    "collapsed": true
   },
   "outputs": [],
   "source": []
  }
 ],
 "metadata": {
  "kernelspec": {
   "display_name": "Python 3",
   "language": "python",
   "name": "python3"
  },
  "language_info": {
   "codemirror_mode": {
    "name": "ipython",
    "version": 3
   },
   "file_extension": ".py",
   "mimetype": "text/x-python",
   "name": "python",
   "nbconvert_exporter": "python",
   "pygments_lexer": "ipython3",
   "version": "3.6.0"
  }
 },
 "nbformat": 4,
 "nbformat_minor": 2
}
